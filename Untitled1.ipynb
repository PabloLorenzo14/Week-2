{
 "cells": [
  {
   "cell_type": "code",
   "execution_count": null,
   "metadata": {},
   "outputs": [],
   "source": [
    "!wget -q -O \"toronto_coordinates.csv\" http://cocl.us/Geospatial_data\n",
    "print('Coordinates downloaded!')\n",
    "coors = pd.read_csv('toronto_coordinates.csv')"
   ]
  },
  {
   "cell_type": "code",
   "execution_count": null,
   "metadata": {},
   "outputs": [],
   "source": [
    "\n",
    "print(coors.shape)\n",
    "coors.head()"
   ]
  },
  {
   "cell_type": "code",
   "execution_count": null,
   "metadata": {},
   "outputs": [],
   "source": [
    "\n",
    "toronto_df_temp = toronto_df_cleaned.set_index('PostalCode')\n",
    "coors_temp = coors.set_index('Postal Code')\n",
    "toronto_df_coors = pd.concat([toronto_df_temp, coors_temp], axis=1, join='inner')\n",
    "\n",
    "toronto_df_coors.index.name = 'PostalCode'\n",
    "toronto_df_coors.reset_index(inplace=True)\n",
    "\n",
    "print(toronto_df_coors.shape)\n",
    "toronto_df_coors.head()"
   ]
  }
 ],
 "metadata": {
  "kernelspec": {
   "display_name": "Python",
   "language": "python",
   "name": "conda-env-python-py"
  },
  "language_info": {
   "codemirror_mode": {
    "name": "ipython",
    "version": 3
   },
   "file_extension": ".py",
   "mimetype": "text/x-python",
   "name": "python",
   "nbconvert_exporter": "python",
   "pygments_lexer": "ipython3",
   "version": "3.6.10"
  }
 },
 "nbformat": 4,
 "nbformat_minor": 4
}
